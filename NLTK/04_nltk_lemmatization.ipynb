{
 "cells": [
  {
   "cell_type": "markdown",
   "metadata": {},
   "source": [
    "# **LEMMATIZATION**\n",
    "\n"
   ]
  },
  {
   "cell_type": "markdown",
   "metadata": {},
   "source": [
    "`Lemmatization` is another technique used in natural language processing (NLP) to normalize words. Like stemming, lemmatization aims to reduce words to their base or root form, but it typically involves using a vocabulary and morphological analysis to achieve this."
   ]
  },
  {
   "cell_type": "markdown",
   "metadata": {},
   "source": [
    "> The base form to which words are reduced during lemmatization is called the \"lemma.\" Unlike stemming, lemmatization ensures that the resulting word is a valid one, and it often involves considering the context of the word and its part of speech (POS). For example:\n",
    "\n",
    "\n",
    "\n",
    "\n",
    "- The lemma of \"running\" is \"run.\"\n",
    "- The lemma of \"better\" is \"good.\"\n",
    "- The lemma of \"cats\" is \"cat.\""
   ]
  },
  {
   "cell_type": "markdown",
   "metadata": {},
   "source": [
    "> Lemmatization is generally considered more linguistically informed than stemming because it takes into account the meaning of words and their grammatical context. It requires access to a lexicon or a database containing information about words and their corresponding lemmas"
   ]
  },
  {
   "cell_type": "markdown",
   "metadata": {},
   "source": [
    "In NLTK, you can perform lemmatization using the WordNetLemmatizer. Here's a simple example:"
   ]
  },
  {
   "cell_type": "markdown",
   "metadata": {},
   "source": [
    "```python\n",
    "from nltk.stem import WordNetLemmatizer\n",
    "\n",
    "# Create a lemmatizer\n",
    "lemmatizer = WordNetLemmatizer()\n",
    "\n",
    "# Example words\n",
    "words = [\"running\", \"better\", \"cats\"]\n",
    "\n",
    "# Lemmatize the words\n",
    "lemmatized_words = [lemmatizer.lemmatize(word) for word in words]\n",
    "\n",
    "# Print the results\n",
    "print(lemmatized_words)\n",
    "\n",
    "\n",
    ">>>output :['running', 'better', 'cat']\n",
    "\n",
    "```"
   ]
  },
  {
   "cell_type": "markdown",
   "metadata": {},
   "source": [
    "> In this example, the lemmatizer recognizes the appropriate lemmas for the given words based on their grammatical category and meaning. Keep in mind that lemmatization may be computationally more expensive than stemming due to the need for a lexicon, but it often provides more accurate results in terms of maintaining the semantic meaning of words."
   ]
  },
  {
   "cell_type": "markdown",
   "metadata": {},
   "source": [
    "The `WordNetLemmatizer` is a class in the NLTK (Natural Language Toolkit) library for Python that performs lemmatization using WordNet, a lexical database of the English language. WordNet provides information about the relationships between words, including their meanings, synonyms, and hierarchical structures."
   ]
  },
  {
   "cell_type": "markdown",
   "metadata": {},
   "source": [
    "> In this example, the *WordNetLemmatizer* is used to find the base or root form (lemma) of each word in the list. The lemmatizer, based on WordNet, is aware of the part of speech (POS) of each word, and it lemmatizes words accordingly. For instance, \"running\" is recognized as a verb, so its lemma is \"run,\" and \"cats\" is recognized as a noun, so its lemma is \"cat.\"\n"
   ]
  },
  {
   "cell_type": "markdown",
   "metadata": {},
   "source": [
    "\n",
    "Keep in mind that for lemmatization to work effectively, you may need to specify the part of speech (POS) of the word. The *WordNetLemmatizer* allows you to do this by providing the POS tag as the second argument. If the POS is not provided, the lemmatizer assumes the word is a noun by default"
   ]
  },
  {
   "cell_type": "markdown",
   "metadata": {},
   "source": [
    "\n",
    "## PROGRAM"
   ]
  },
  {
   "cell_type": "code",
   "execution_count": 1,
   "metadata": {},
   "outputs": [],
   "source": [
    "from nltk.stem import WordNetLemmatizer"
   ]
  },
  {
   "cell_type": "code",
   "execution_count": 2,
   "metadata": {},
   "outputs": [],
   "source": [
    "lemmatizer = WordNetLemmatizer()"
   ]
  },
  {
   "cell_type": "code",
   "execution_count": 3,
   "metadata": {},
   "outputs": [
    {
     "data": {
      "text/plain": [
       "'go'"
      ]
     },
     "execution_count": 3,
     "metadata": {},
     "output_type": "execute_result"
    }
   ],
   "source": [
    "'''  \n",
    "POS = \n",
    "Noun - n\n",
    "Verb - v\n",
    "Adjective - a\n",
    "Adverb - r\n",
    "\n",
    "'''\n",
    "lemmatizer.lemmatize('going', pos='v')# its a verb and it worked well"
   ]
  },
  {
   "cell_type": "code",
   "execution_count": 4,
   "metadata": {},
   "outputs": [
    {
     "data": {
      "text/plain": [
       "'going'"
      ]
     },
     "execution_count": 4,
     "metadata": {},
     "output_type": "execute_result"
    }
   ],
   "source": [
    "lemmatizer.lemmatize('going', pos='r')# no its not adverb, i did't even remember what is verb adverb etc."
   ]
  },
  {
   "cell_type": "code",
   "execution_count": 5,
   "metadata": {},
   "outputs": [],
   "source": [
    "from nltk.stem import SnowballStemmer\n",
    "snowballstemmer = SnowballStemmer('english')"
   ]
  },
  {
   "cell_type": "code",
   "execution_count": 6,
   "metadata": {},
   "outputs": [
    {
     "data": {
      "text/plain": [
       "('fairly', 'sport')"
      ]
     },
     "execution_count": 6,
     "metadata": {},
     "output_type": "execute_result"
    }
   ],
   "source": [
    "lemmatizer.lemmatize(\"fairly\"),snowballstemmer.stem(\"sportingly\")"
   ]
  },
  {
   "cell_type": "code",
   "execution_count": 8,
   "metadata": {},
   "outputs": [
    {
     "data": {
      "text/plain": [
       "('fairly', 'sportingly')"
      ]
     },
     "execution_count": 8,
     "metadata": {},
     "output_type": "execute_result"
    }
   ],
   "source": [
    "lemmatizer.lemmatize(\"fairly\", pos='v'),lemmatizer.lemmatize(\"sportingly\", pos='v')"
   ]
  },
  {
   "cell_type": "markdown",
   "metadata": {},
   "source": [
    "### which will take time lemmatizer or stemming?\n",
    "*ofcourse lemmatizer*\n",
    "> ## Q & A and chatbots and text summerisation can use lemmatizer"
   ]
  },
  {
   "cell_type": "markdown",
   "metadata": {},
   "source": [
    "# Soooooooo `LLM` and `NLP` can do some crazy stuff😗🎶🎶"
   ]
  },
  {
   "cell_type": "markdown",
   "metadata": {},
   "source": []
  }
 ],
 "metadata": {
  "kernelspec": {
   "display_name": "Python 3",
   "language": "python",
   "name": "python3"
  },
  "language_info": {
   "codemirror_mode": {
    "name": "ipython",
    "version": 3
   },
   "file_extension": ".py",
   "mimetype": "text/x-python",
   "name": "python",
   "nbconvert_exporter": "python",
   "pygments_lexer": "ipython3",
   "version": "3.10.11"
  }
 },
 "nbformat": 4,
 "nbformat_minor": 2
}
